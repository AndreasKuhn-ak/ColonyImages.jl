{
 "cells": [
  {
   "cell_type": "code",
   "execution_count": 4,
   "id": "2704c40e",
   "metadata": {},
   "outputs": [
    {
     "name": "stderr",
     "output_type": "stream",
     "text": [
      "\u001b[32m\u001b[1m  Activating\u001b[22m\u001b[39m project at `c:\\Users\\ank10ki\\Dropbox\\phd\\Image analysis\\ColonyImages`\n"
     ]
    }
   ],
   "source": [
    "using Pkg\n",
    "Pkg.activate(@__DIR__)\n",
    "Pkg.instantiate()"
   ]
  },
  {
   "cell_type": "code",
   "execution_count": 5,
   "id": "77069d99",
   "metadata": {},
   "outputs": [
    {
     "data": {
      "text/plain": [
       "16"
      ]
     },
     "execution_count": 5,
     "metadata": {},
     "output_type": "execute_result"
    }
   ],
   "source": [
    "Threads.nthreads()"
   ]
  },
  {
   "cell_type": "code",
   "execution_count": 6,
   "id": "1af2f004",
   "metadata": {},
   "outputs": [
    {
     "name": "stdout",
     "output_type": "stream",
     "text": [
      "\u001b[36m\u001b[1mProject\u001b[22m\u001b[39m ColonyImages v1.0.0-DEV\n",
      "\u001b[32m\u001b[1mStatus\u001b[22m\u001b[39m `C:\\Users\\ank10ki\\Dropbox\\phd\\Image analysis\\ColonyImages\\Project.toml`\n",
      "\u001b[32m⌃\u001b[39m \u001b[90m[46ada45e] \u001b[39mAgents v5.17.1\n",
      "\u001b[32m⌃\u001b[39m \u001b[90m[6e4b80f9] \u001b[39mBenchmarkTools v1.4.0\n",
      "\u001b[32m⌃\u001b[39m \u001b[90m[336ed68f] \u001b[39mCSV v0.10.12\n",
      "\u001b[32m⌃\u001b[39m \u001b[90m[13f3f980] \u001b[39mCairoMakie v0.11.5\n",
      "\u001b[33m⌅\u001b[39m \u001b[90m[8be319e6] \u001b[39mChain v0.5.0\n",
      "  \u001b[90m[35d6a980] \u001b[39mColorSchemes v3.24.0\n",
      "  \u001b[90m[a93c6f00] \u001b[39mDataFrames v1.6.1\n",
      "\u001b[32m⌃\u001b[39m \u001b[90m[1313f7d8] \u001b[39mDataFramesMeta v0.14.1\n",
      "\u001b[32m⌃\u001b[39m \u001b[90m[864edb3b] \u001b[39mDataStructures v0.18.16\n",
      "  \u001b[90m[31c24e10] \u001b[39mDistributions v0.25.107\n",
      "\u001b[32m⌃\u001b[39m \u001b[90m[e30172f5] \u001b[39mDocumenter v1.2.1\n",
      "\u001b[32m⌃\u001b[39m \u001b[90m[634d3b9d] \u001b[39mDrWatson v2.13.0\n",
      "\u001b[32m⌃\u001b[39m \u001b[90m[7a1cc6ca] \u001b[39mFFTW v1.7.2\n",
      "\u001b[32m⌃\u001b[39m \u001b[90m[5789e2e9] \u001b[39mFileIO v1.16.2\n",
      "  \u001b[90m[d8961e24] \u001b[39mFindPeaks1D v0.1.8\n",
      "\u001b[32m⌃\u001b[39m \u001b[90m[e9467ef8] \u001b[39mGLMakie v0.9.5\n",
      "\u001b[33m⌅\u001b[39m \u001b[90m[a09fc81d] \u001b[39mImageCore v0.9.4\n",
      "  \u001b[90m[2b14c160] \u001b[39mImageEdgeDetection v0.1.8\n",
      "\u001b[32m⌃\u001b[39m \u001b[90m[6a3955dd] \u001b[39mImageFiltering v0.7.6\n",
      "  \u001b[90m[787d08f9] \u001b[39mImageMorphology v0.4.5\n",
      "  \u001b[90m[916415d5] \u001b[39mImages v0.26.0\n",
      "\u001b[33m⌅\u001b[39m \u001b[90m[a98d9a8b] \u001b[39mInterpolations v0.14.7\n",
      "  \u001b[90m[682c06a0] \u001b[39mJSON v0.21.4\n",
      "  \u001b[90m[2fda8390] \u001b[39mLsqFit v0.15.0\n",
      "  \u001b[90m[e94cdb99] \u001b[39mMosaicViews v0.3.4\n",
      "  \u001b[90m[d96e819e] \u001b[39mParameters v0.12.3\n",
      "\u001b[32m⌃\u001b[39m \u001b[90m[295af30f] \u001b[39mRevise v3.5.13\n",
      "  \u001b[90m[2913bbd2] \u001b[39mStatsBase v0.34.2\n",
      "  \u001b[90m[ade2ca70] \u001b[39mDates\n",
      "  \u001b[90m[37e2e46d] \u001b[39mLinearAlgebra\n",
      "  \u001b[90m[9a3f8284] \u001b[39mRandom\n",
      "  \u001b[90m[2f01184e] \u001b[39mSparseArrays v1.10.0\n",
      "  \u001b[90m[10745b16] \u001b[39mStatistics v1.10.0\n",
      "\u001b[36m\u001b[1mInfo\u001b[22m\u001b[39m Packages marked with \u001b[32m⌃\u001b[39m and \u001b[33m⌅\u001b[39m have new versions available. Those with \u001b[32m⌃\u001b[39m may be upgradable, but those with \u001b[33m⌅\u001b[39m are restricted by compatibility constraints from upgrading. To see why use `status --outdated`\n"
     ]
    }
   ],
   "source": [
    "Pkg.status()"
   ]
  },
  {
   "cell_type": "code",
   "execution_count": 7,
   "id": "f3190fe7",
   "metadata": {},
   "outputs": [
    {
     "name": "stderr",
     "output_type": "stream",
     "text": [
      "\u001b[36m\u001b[1m[ \u001b[22m\u001b[39m\u001b[36m\u001b[1mInfo: \u001b[22m\u001b[39mPrecompiling CairoMakie [13f3f980-e62b-5c42-98c6-ff1f3baf88f0]\n",
      "\u001b[32m\u001b[1mPrecompiling\u001b[22m\u001b[39m ColonyImages\n",
      "\u001b[32m  ✓ \u001b[39m\u001b[90mGit_jll\u001b[39m\n",
      "\u001b[32m  ✓ \u001b[39m\u001b[90mlibsixel_jll\u001b[39m\n",
      "\u001b[32m  ✓ \u001b[39m\u001b[90mImageMagick_jll\u001b[39m\n",
      "\u001b[32m  ✓ \u001b[39m\u001b[90mOpenSSL\u001b[39m\n",
      "\u001b[32m  ✓ \u001b[39m\u001b[90mXSLT_jll\u001b[39m\n",
      "\u001b[32m  ✓ \u001b[39m\u001b[90mIntervalArithmetic → IntervalArithmeticDiffRulesExt\u001b[39m\n",
      "\u001b[32m  ✓ \u001b[39m\u001b[90mRegionTrees\u001b[39m\n",
      "\u001b[32m  ✓ \u001b[39m\u001b[90mCoordinateTransformations\u001b[39m\n",
      "\u001b[32m  ✓ \u001b[39m\u001b[90mArnoldiMethod\u001b[39m\n",
      "\u001b[32m  ✓ \u001b[39m\u001b[90mFiniteDiff → FiniteDiffStaticArraysExt\u001b[39m\n",
      "\u001b[32m  ✓ \u001b[39m\u001b[90mRotations\u001b[39m\n",
      "\u001b[32m  ✓ \u001b[39m\u001b[90mFFTViews\u001b[39m\n",
      "\u001b[32m  ✓ \u001b[39m\u001b[90mForwardDiff\u001b[39m\n",
      "\u001b[32m  ✓ \u001b[39m\u001b[90mGit\u001b[39m\n",
      "\u001b[32m  ✓ \u001b[39m\u001b[90mStaticArrayInterface → StaticArrayInterfaceStaticArraysExt\u001b[39m\n",
      "\u001b[32m  ✓ \u001b[39m\u001b[90mNearestNeighbors\u001b[39m\n",
      "\u001b[32m  ✓ \u001b[39m\u001b[90mForwardDiff → ForwardDiffStaticArraysExt\u001b[39m\n",
      "\u001b[32m  ✓ \u001b[39m\u001b[90mLoopVectorization → SpecialFunctionsExt\u001b[39m\n",
      "\u001b[32m  ✓ \u001b[39m\u001b[90mNLSolversBase\u001b[39m\n",
      "\u001b[32m  ✓ \u001b[39m\u001b[90mHTTP\u001b[39m\n",
      "\u001b[32m  ✓ \u001b[39m\u001b[90mClustering\u001b[39m\n",
      "\u001b[32m  ✓ \u001b[39m\u001b[90mGraphs\u001b[39m\n",
      "\u001b[32m  ✓ \u001b[39m\u001b[90mLineSearches\u001b[39m\n",
      "\u001b[32m  ✓ \u001b[39m\u001b[90mSimpleWeightedGraphs\u001b[39m\n",
      "\u001b[32m  ✓ \u001b[39m\u001b[90mMetaGraphs\u001b[39m\n",
      "\u001b[32m  ✓ \u001b[39m\u001b[90mStaticGraphs\u001b[39m\n",
      "\u001b[32m  ✓ \u001b[39m\u001b[90mLoopVectorization → ForwardDiffExt\u001b[39m\n",
      "\u001b[32m  ✓ \u001b[39m\u001b[90mMeshIO\u001b[39m\n",
      "\u001b[32m  ✓ \u001b[39m\u001b[90mOptim\u001b[39m\n",
      "\u001b[32m  ✓ \u001b[39m\u001b[90mLightOSM\u001b[39m\n",
      "\u001b[32m  ✓ \u001b[39mLsqFit\n",
      "\u001b[32m  ✓ \u001b[39mDocumenter\n",
      "\u001b[32m  ✓ \u001b[39mAgents\n",
      "\u001b[32m  ✓ \u001b[39mImageCore\n",
      "\u001b[32m  ✓ \u001b[39m\u001b[90mJpegTurbo\u001b[39m\n",
      "\u001b[32m  ✓ \u001b[39m\u001b[90mSixel\u001b[39m\n",
      "\u001b[32m  ✓ \u001b[39m\u001b[90mImageBase\u001b[39m\n",
      "\u001b[32m  ✓ \u001b[39m\u001b[90mImageMagick\u001b[39m\n",
      "\u001b[32m  ✓ \u001b[39m\u001b[90mPNGFiles\u001b[39m\n",
      "\u001b[32m  ✓ \u001b[39mImageMorphology\n",
      "\u001b[32m  ✓ \u001b[39m\u001b[90mHistogramThresholding\u001b[39m\n",
      "\u001b[32m  ✓ \u001b[39m\u001b[90mImageAxes\u001b[39m\n",
      "\u001b[32m  ✓ \u001b[39m\u001b[90mImageDistances\u001b[39m\n",
      "\u001b[32m  ✓ \u001b[39m\u001b[90mImageBinarization\u001b[39m\n",
      "\u001b[32m  ✓ \u001b[39m\u001b[90mImageMetadata\u001b[39m\n",
      "\u001b[32m  ✓ \u001b[39m\u001b[90mImageShow\u001b[39m\n",
      "\u001b[32m  ✓ \u001b[39m\u001b[90mImageTransformations\u001b[39m\n",
      "\u001b[32m  ✓ \u001b[39m\u001b[90mNetpbm\u001b[39m\n",
      "\u001b[32m  ✓ \u001b[39m\u001b[90mImageContrastAdjustment\u001b[39m\n",
      "\u001b[32m  ✓ \u001b[39mImageFiltering\n",
      "\u001b[32m  ✓ \u001b[39mImageEdgeDetection\n",
      "\u001b[32m  ✓ \u001b[39m\u001b[90mImageSegmentation\u001b[39m\n",
      "\u001b[32m  ✓ \u001b[39m\u001b[90mImageCorners\u001b[39m\n",
      "\u001b[32m  ✓ \u001b[39m\u001b[90mImageQualityIndexes\u001b[39m\n",
      "\u001b[32m  ✓ \u001b[39mImages\n"
     ]
    }
   ],
   "source": [
    "using Revise, CairoMakie\n",
    "using ColonyImages\n",
    "using DataFrames, CSV, FileIO, Dates, Serialization\n",
    "import ColorSchemes as co "
   ]
  },
  {
   "cell_type": "code",
   "execution_count": null,
   "id": "9b8175d7-604a-412e-b58a-73daae3ef644",
   "metadata": {},
   "outputs": [],
   "source": [
    "df = DataFrame(data_set =String[], colony = String[], time = Int[], \n",
    "    metric_OG =Vector{Vector{Int64}}(undef,0), metric_cov = Vector{Vector{Int64}}(undef,0),\n",
    "    pair_OG =Vector{Vector{Int64}}(undef,0),pair_cov =Vector{Vector{Int64}}(undef,0),OG_size = Int[])"
   ]
  },
  {
   "cell_type": "code",
   "execution_count": null,
   "id": "575598a6",
   "metadata": {},
   "outputs": [],
   "source": [
    "para = parameters(\n",
    "        im_size = [800,800],\n",
    "        time_points = [0:2.0:48...],\n",
    "        colony_nr = 2);\n",
    "\n",
    "simulations = [\"Random\", \"Finger_weak\", \"Finger_strong\"]\n",
    "#simulations = [\"Random\"]\n",
    "plot_sim = false"
   ]
  },
  {
   "cell_type": "code",
   "execution_count": null,
   "id": "92faf370",
   "metadata": {},
   "outputs": [],
   "source": [
    "name_of_sim = \"$(para.colony_nr)_col_$(length(simulations))_grow_3200_\"\n",
    "fig_path = joinpath(\"data\", \"artificial\",name_of_sim)\n",
    "path_metric = joinpath(\"data\", \"metrics\")\n",
    "mkpath(path_metric)\n",
    "mkpath(fig_path)"
   ]
  },
  {
   "cell_type": "markdown",
   "id": "d6deafd7-73df-4368-9685-f85911d5dbae",
   "metadata": {},
   "source": [
    "## Create empty datastructure for colony images"
   ]
  },
  {
   "cell_type": "code",
   "execution_count": null,
   "id": "42749645",
   "metadata": {},
   "outputs": [],
   "source": [
    "pixel_to_add_vec = Int[];\n",
    "vec_of_sims = Vector{Vector{BitArray{3}}}(undef, 0)\n",
    "for i in 1:length(simulations)\n",
    "    img_int_vec_1 = Vector{BitArray{3}}(undef, 0)\n",
    "    for i in 1:para.colony_nr\n",
    "        hans =BitArray(zeros(Bool, para.im_size...,para.stacks))\n",
    "        push!(img_int_vec_1, hans)\n",
    "    end\n",
    "    push!(vec_of_sims, img_int_vec_1)\n",
    "end"
   ]
  },
  {
   "cell_type": "code",
   "execution_count": null,
   "id": "58079999",
   "metadata": {},
   "outputs": [],
   "source": [
    "pixel_to_add_vec = Int[];\n",
    "@threads for (x,sim) in enumerate(simulations)\n",
    "    for (i,colony) in enumerate(vec_of_sims[x])\n",
    "        for (j,t) in enumerate(para.time_points)\n",
    "            # use view to work on array directly \n",
    "            int_img  = @view colony[:,:,j]\n",
    "            dir_vec = generate_dir_vec(para)\n",
    "            if j == 1\n",
    "                build_artifical_colony!(para.Center,int_img,para.radius_colony,para.Points)\n",
    "                pixel_to_add_vec = para.pixel_to_add(int_img)\n",
    "            else\n",
    "                # for unkown reason views require [:] to make assignments \n",
    "                int_img[:] = colony[:,:,j-1]\n",
    "                if sim == \"Random\"\n",
    "                    expand_colony_radom_cov!(int_img,pixel_to_add_vec[j-1])\n",
    "                elseif sim == \"Finger_weak\"\n",
    "                    expand_colony_finger_radom_cov!(int_img,pixel_to_add_vec[j-1],dir_vec)\n",
    "                elseif sim == \"Finger_strong\"\n",
    "                    expand_colony_finger_radom_cov!(int_img,pixel_to_add_vec[j-1],dir_vec, still_spawn_rate= 0.0, dir_match_rate = 0.9995)\n",
    "                end\n",
    "            end\n",
    "        end\n",
    "    end   \n",
    "end"
   ]
  },
  {
   "cell_type": "markdown",
   "id": "a1737158-983b-4785-8d46-134276860deb",
   "metadata": {},
   "source": [
    "### Plot first colony test wise to see if everything worked as intended"
   ]
  },
  {
   "cell_type": "code",
   "execution_count": null,
   "id": "48b93904",
   "metadata": {},
   "outputs": [],
   "source": [
    "fig_test = plot_time_series_cov_centroid(vec_of_sims[1][1:1], para)"
   ]
  },
  {
   "cell_type": "markdown",
   "id": "5fddb098",
   "metadata": {},
   "source": [
    "###  Either plot sim into artifical data folder or not to save computation time"
   ]
  },
  {
   "cell_type": "code",
   "execution_count": 10,
   "id": "5fdd687f",
   "metadata": {},
   "outputs": [],
   "source": [
    "if plot_sim \n",
    "    @threads for (i,name) in enumerate(simulations)\n",
    "        fig, data_set_name = plot_and_save_time_series_metrics!(vec_of_sims[i], para,df, name_data = name)\n",
    "        save(joinpath(fig_path, data_set_name)*\".png\", fig)\n",
    "    end\n",
    "else\n",
    "    @threads for (i,name) in enumerate(simulations)\n",
    "        data_set_name = save_time_series_metrics!(vec_of_sims[i], para,df, name_data = name)\n",
    "    end\n",
    "end"
   ]
  },
  {
   "cell_type": "code",
   "execution_count": 11,
   "id": "177fe388",
   "metadata": {},
   "outputs": [
    {
     "data": {
      "text/html": [
       "<div><div style = \"float: left;\"><span>2×8 DataFrame</span></div><div style = \"clear: both;\"></div></div><div class = \"data-frame\" style = \"overflow-x: scroll;\"><table class = \"data-frame\" style = \"margin-bottom: 6px;\"><thead><tr class = \"header\"><th class = \"rowNumber\" style = \"font-weight: bold; text-align: right;\">Row</th><th style = \"text-align: left;\">data_set</th><th style = \"text-align: left;\">colony</th><th style = \"text-align: left;\">time</th><th style = \"text-align: left;\">metric_OG</th><th style = \"text-align: left;\">metric_cov</th><th style = \"text-align: left;\">pair_OG</th><th style = \"text-align: left;\">pair_cov</th><th style = \"text-align: left;\">OG_size</th></tr><tr class = \"subheader headerLastRow\"><th class = \"rowNumber\" style = \"font-weight: bold; text-align: right;\"></th><th title = \"String\" style = \"text-align: left;\">String</th><th title = \"String\" style = \"text-align: left;\">String</th><th title = \"Int64\" style = \"text-align: left;\">Int64</th><th title = \"Vector{Int64}\" style = \"text-align: left;\">Array…</th><th title = \"Vector{Int64}\" style = \"text-align: left;\">Array…</th><th title = \"Vector{Int64}\" style = \"text-align: left;\">Array…</th><th title = \"Vector{Int64}\" style = \"text-align: left;\">Array…</th><th title = \"Int64\" style = \"text-align: left;\">Int64</th></tr></thead><tbody><tr><td class = \"rowNumber\" style = \"font-weight: bold; text-align: right;\">1</td><td style = \"text-align: left;\">Random 2024_03_26</td><td style = \"text-align: left;\">Colony 1 artifical</td><td style = \"text-align: right;\">0</td><td style = \"text-align: left;\">[0, 0, 0, 0, 0, 0, 0, 0, 0, 0  …  0, 0, 0, 0, 0, 0, 0, 0, 0, 0]</td><td style = \"text-align: left;\">[21, 2, 16, 14, 13, 14, 15, 15, 13, 18  …  13, 18, 13, 15, 15, 14, 13, 14, 16, 21]</td><td style = \"text-align: left;\">[5475, 5166, 5556, 5739, 5599, 5433, 5781, 5425, 5711, 5438  …  5558, 5612, 5389, 5646, 5387, 5663, 5806, 5682, 5038, 5887]</td><td style = \"text-align: left;\">[5642, 5083, 5509, 5736, 5640, 5312, 5746, 5476, 5666, 5523  …  5489, 5590, 5504, 5765, 5332, 5517, 5672, 5625, 5158, 5971]</td><td style = \"text-align: right;\">5249</td></tr><tr><td class = \"rowNumber\" style = \"font-weight: bold; text-align: right;\">2</td><td style = \"text-align: left;\">Random 2024_03_26</td><td style = \"text-align: left;\">Colony 1 artifical</td><td style = \"text-align: right;\">2</td><td style = \"text-align: left;\">[2, 1, 0, 1, 0, 0, 0, 0, 0, 0  …  0, 0, 0, 0, 1, 2, 1, 1, 0, 2]</td><td style = \"text-align: left;\">[0, 0, 0, 0, 1, 0, 1, 1, 1, 0  …  1, 0, 1, 1, 0, 2, 0, 2, 0, 0]</td><td style = \"text-align: left;\">[4934, 6249, 10113, 9317, 3860, 9429, 4954, 6856, 6584, 6266  …  5546, 5531, 6111, 4250, 7275, 2387, 6464, 6261, 4187, 5880]</td><td style = \"text-align: left;\">[3247, 5509, 10532, 6937, 2985, 10556, 3268, 6406, 6474, 5422  …  5099, 6541, 6353, 3982, 8734, 2711, 6430, 6585, 3975, 6114]</td><td style = \"text-align: right;\">5249</td></tr></tbody></table></div>"
      ],
      "text/latex": [
       "\\begin{tabular}{r|ccccc}\n",
       "\t& data\\_set & colony & time & metric\\_OG & \\\\\n",
       "\t\\hline\n",
       "\t& String & String & Int64 & Array… & \\\\\n",
       "\t\\hline\n",
       "\t1 & Random 2024\\_03\\_26 & Colony 1 artifical & 0 & [0, 0, 0, 0, 0, 0, 0, 0, 0, 0  …  0, 0, 0, 0, 0, 0, 0, 0, 0, 0] & $\\dots$ \\\\\n",
       "\t2 & Random 2024\\_03\\_26 & Colony 1 artifical & 2 & [2, 1, 0, 1, 0, 0, 0, 0, 0, 0  …  0, 0, 0, 0, 1, 2, 1, 1, 0, 2] & $\\dots$ \\\\\n",
       "\\end{tabular}\n"
      ],
      "text/plain": [
       "\u001b[1m2×8 DataFrame\u001b[0m\n",
       "\u001b[1m Row \u001b[0m│\u001b[1m data_set          \u001b[0m\u001b[1m colony             \u001b[0m\u001b[1m time  \u001b[0m\u001b[1m metric_OG                \u001b[0m ⋯\n",
       "     │\u001b[90m String            \u001b[0m\u001b[90m String             \u001b[0m\u001b[90m Int64 \u001b[0m\u001b[90m Array…                   \u001b[0m ⋯\n",
       "─────┼──────────────────────────────────────────────────────────────────────────\n",
       "   1 │ Random 2024_03_26  Colony 1 artifical      0  [0, 0, 0, 0, 0, 0, 0, 0,  ⋯\n",
       "   2 │ Random 2024_03_26  Colony 1 artifical      2  [2, 1, 0, 1, 0, 0, 0, 0,\n",
       "\u001b[36m                                                               5 columns omitted\u001b[0m"
      ]
     },
     "metadata": {},
     "output_type": "display_data"
    }
   ],
   "source": [
    "first(df,2)"
   ]
  },
  {
   "cell_type": "code",
   "execution_count": 12,
   "id": "c162a3c9",
   "metadata": {},
   "outputs": [
    {
     "data": {
      "text/plain": [
       "\"data\\\\metrics\\\\2_col_3_grow_3200_2024_03_26.csv\""
      ]
     },
     "metadata": {},
     "output_type": "display_data"
    }
   ],
   "source": [
    "serialize(joinpath(path_metric,\"$(name_of_sim*Dates.format(now(), \"yyyy_mm_dd\")).jls\"),df)\n",
    "CSV.write(joinpath(path_metric,\"$(name_of_sim*Dates.format(now(), \"yyyy_mm_dd\")).csv\"),df)"
   ]
  },
  {
   "cell_type": "code",
   "execution_count": null,
   "id": "10ae08e2",
   "metadata": {},
   "outputs": [],
   "source": []
  },
  {
   "cell_type": "code",
   "execution_count": null,
   "id": "7bbc5457",
   "metadata": {},
   "outputs": [],
   "source": []
  }
 ],
 "metadata": {
  "kernelspec": {
   "display_name": "Julia (16 Threads) 1.10.2",
   "language": "julia",
   "name": "julia-_16-threads_-1.10"
  },
  "language_info": {
   "file_extension": ".jl",
   "mimetype": "application/julia",
   "name": "julia",
   "version": "1.10.2"
  }
 },
 "nbformat": 4,
 "nbformat_minor": 5
}
