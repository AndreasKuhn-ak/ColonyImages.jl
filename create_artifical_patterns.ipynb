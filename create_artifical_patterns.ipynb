{
 "cells": [
  {
   "cell_type": "code",
   "execution_count": 1,
   "id": "2704c40e",
   "metadata": {},
   "outputs": [],
   "source": [
    "using Pkg\n",
    "Pkg.instantiate()"
   ]
  },
  {
   "cell_type": "code",
   "execution_count": 10,
   "id": "b901895e-e75a-4ab0-99d7-2f9a7b3507f5",
   "metadata": {},
   "outputs": [],
   "source": [
    "using Revise, CairoMakie\n",
    "using ColonyImages\n",
    "using DataFrames, CSV, FileIO, Dates, Serialization\n",
    "import ColorSchemes as co "
   ]
  },
  {
   "cell_type": "code",
   "execution_count": 11,
   "id": "9b8175d7-604a-412e-b58a-73daae3ef644",
   "metadata": {},
   "outputs": [
    {
     "data": {
      "text/html": [
       "<div><div style = \"float: left;\"><span>0×8 DataFrame</span></div><div style = \"clear: both;\"></div></div><div class = \"data-frame\" style = \"overflow-x: scroll;\"><table class = \"data-frame\" style = \"margin-bottom: 6px;\"><thead><tr class = \"header\"><th class = \"rowNumber\" style = \"font-weight: bold; text-align: right;\">Row</th><th style = \"text-align: left;\">data_set</th><th style = \"text-align: left;\">colony</th><th style = \"text-align: left;\">time</th><th style = \"text-align: left;\">metric_OG</th><th style = \"text-align: left;\">metric_cov</th><th style = \"text-align: left;\">pair_OG</th><th style = \"text-align: left;\">pair_cov</th><th style = \"text-align: left;\">OG_size</th></tr><tr class = \"subheader headerLastRow\"><th class = \"rowNumber\" style = \"font-weight: bold; text-align: right;\"></th><th title = \"String\" style = \"text-align: left;\">String</th><th title = \"String\" style = \"text-align: left;\">String</th><th title = \"Int64\" style = \"text-align: left;\">Int64</th><th title = \"Vector{Int64}\" style = \"text-align: left;\">Array…</th><th title = \"Vector{Int64}\" style = \"text-align: left;\">Array…</th><th title = \"Vector{Int64}\" style = \"text-align: left;\">Array…</th><th title = \"Vector{Int64}\" style = \"text-align: left;\">Array…</th><th title = \"Int64\" style = \"text-align: left;\">Int64</th></tr></thead><tbody></tbody></table></div>"
      ],
      "text/latex": [
       "\\begin{tabular}{r|cccccccc}\n",
       "\t& data\\_set & colony & time & metric\\_OG & metric\\_cov & pair\\_OG & pair\\_cov & OG\\_size\\\\\n",
       "\t\\hline\n",
       "\t& String & String & Int64 & Array… & Array… & Array… & Array… & Int64\\\\\n",
       "\t\\hline\n",
       "\\end{tabular}\n"
      ],
      "text/plain": [
       "\u001b[1m0×8 DataFrame\u001b[0m\n",
       "\u001b[1m Row \u001b[0m│\u001b[1m data_set \u001b[0m\u001b[1m colony \u001b[0m\u001b[1m time  \u001b[0m\u001b[1m metric_OG \u001b[0m\u001b[1m metric_cov \u001b[0m\u001b[1m pair_OG \u001b[0m\u001b[1m pair_cov \u001b[0m\u001b[1m OG_s\u001b[0m ⋯\n",
       "     │\u001b[90m String   \u001b[0m\u001b[90m String \u001b[0m\u001b[90m Int64 \u001b[0m\u001b[90m Array…    \u001b[0m\u001b[90m Array…     \u001b[0m\u001b[90m Array…  \u001b[0m\u001b[90m Array…   \u001b[0m\u001b[90m Int6\u001b[0m ⋯\n",
       "─────┴──────────────────────────────────────────────────────────────────────────\n",
       "\u001b[36m                                                                1 column omitted\u001b[0m"
      ]
     },
     "metadata": {},
     "output_type": "display_data"
    }
   ],
   "source": [
    "df = DataFrame(data_set =String[], colony = String[], time = Int[], \n",
    "    metric_OG =Vector{Vector{Int64}}(undef,0), metric_cov = Vector{Vector{Int64}}(undef,0),\n",
    "    pair_OG =Vector{Vector{Int64}}(undef,0),pair_cov =Vector{Vector{Int64}}(undef,0),OG_size = Int[])"
   ]
  },
  {
   "cell_type": "code",
   "execution_count": null,
   "id": "cd76094a",
   "metadata": {},
   "outputs": [],
   "source": [
    "para = parameters(\n",
    "        im_size = [6000,6000],\n",
    "        time_points = [0:8.0:180...],\n",
    "        colony_nr = 2);\n",
    "\n",
    "#simulations = [\"Random\", \"Finger_weak\", \"Finger_strong\"]\n",
    "simulations = [\"Random\"]\n",
    "plot_sim = false"
   ]
  },
  {
   "cell_type": "code",
   "execution_count": null,
   "id": "92faf370",
   "metadata": {},
   "outputs": [],
   "source": [
    "name_of_sim = \"$(para.colony_nr)_col_$(length(simulations))_long_growth_random_$(para.im_size[1])\"\n",
    "fig_path = joinpath(\"data\", \"artificial\",name_of_sim)\n",
    "path_metric = joinpath(\"data\", \"metrics\")\n",
    "mkpath(path_metric)\n",
    "mkpath(fig_path)"
   ]
  },
  {
   "cell_type": "markdown",
   "id": "d6deafd7-73df-4368-9685-f85911d5dbae",
   "metadata": {},
   "source": [
    "## Create empty datastructure for colony images"
   ]
  },
  {
   "cell_type": "code",
   "execution_count": 4,
   "id": "42749645",
   "metadata": {},
   "outputs": [
    {
     "ename": "UndefVarError",
     "evalue": "UndefVarError: `simulations` not defined",
     "output_type": "error",
     "traceback": [
      "UndefVarError: `simulations` not defined\n",
      "\n",
      "Stacktrace:\n",
      " [1] top-level scope\n",
      "   @ c:\\Users\\ank10ki\\Dropbox\\phd\\Image analysis\\ColonyImages\\create_artifical_patterns.ipynb:3"
     ]
    }
   ],
   "source": [
    "pixel_to_add_vec = Int[];\n",
    "vec_of_sims = Vector{Vector{BitArray{3}}}(undef, 0)\n",
    "for i in 1:length(simulations)\n",
    "    img_int_vec_1 = Vector{BitArray{3}}(undef, 0)\n",
    "    for i in 1:para.colony_nr\n",
    "        hans =BitArray(zeros(Bool, para.im_size...,para.stacks))\n",
    "        push!(img_int_vec_1, hans)\n",
    "    end\n",
    "    push!(vec_of_sims, img_int_vec_1)\n",
    "end"
   ]
  },
  {
   "cell_type": "code",
   "execution_count": 5,
   "id": "58079999",
   "metadata": {},
   "outputs": [
    {
     "ename": "UndefVarError",
     "evalue": "UndefVarError: `simulations` not defined",
     "output_type": "error",
     "traceback": [
      "UndefVarError: `simulations` not defined\n",
      "\n",
      "Stacktrace:\n",
      " [1] top-level scope\n",
      "   @ c:\\Users\\ank10ki\\Dropbox\\phd\\Image analysis\\ColonyImages\\create_artifical_patterns.ipynb:2"
     ]
    }
   ],
   "source": [
    "pixel_to_add_vec = Int[];\n",
    "for (x,sim) in enumerate(simulations)\n",
    "    for (i,colony) in enumerate(vec_of_sims[x])\n",
    "        for (j,t) in enumerate(para.time_points)\n",
    "            # use view to work on array directly \n",
    "            int_img  = @view colony[:,:,j]\n",
    "            dir_vec = generate_dir_vec(para)\n",
    "            if j == 1\n",
    "                build_artifical_colony!(para.Center,int_img,para.radius_colony,para.Points)\n",
    "                pixel_to_add_vec = para.pixel_to_add(int_img)\n",
    "            else\n",
    "                # for unkown reason views require [:] to make assignments \n",
    "                int_img[:] = colony[:,:,j-1]\n",
    "                if sim == \"Random\"\n",
    "                    expand_colony_radom_cov!(int_img,pixel_to_add_vec[j-1])\n",
    "                elseif sim == \"Finger_weak\"\n",
    "                    expand_colony_finger_radom_cov!(int_img,pixel_to_add_vec[j-1],dir_vec)\n",
    "                elseif sim == \"Finger_strong\"\n",
    "                    expand_colony_finger_radom_cov!(int_img,pixel_to_add_vec[j-1],dir_vec, still_spawn_rate= 0.0, dir_match_rate = 0.9995)\n",
    "                end\n",
    "            end\n",
    "        end\n",
    "    end   \n",
    "end"
   ]
  },
  {
   "cell_type": "markdown",
   "id": "a1737158-983b-4785-8d46-134276860deb",
   "metadata": {},
   "source": [
    "### Plot first colony test wise to see if everything worked as intended"
   ]
  },
  {
   "cell_type": "code",
   "execution_count": 6,
   "id": "48b93904",
   "metadata": {},
   "outputs": [
    {
     "ename": "BoundsError",
     "evalue": "BoundsError: attempt to access 0-element Vector{Vector{BitArray{3}}} at index [1]",
     "output_type": "error",
     "traceback": [
      "BoundsError: attempt to access 0-element Vector{Vector{BitArray{3}}} at index [1]\n",
      "\n",
      "Stacktrace:\n",
      " [1] getindex(A::Vector{Vector{BitArray{3}}}, i1::Int64)\n",
      "   @ Base .\\essentials.jl:13\n",
      " [2] top-level scope\n",
      "   @ c:\\Users\\ank10ki\\Dropbox\\phd\\Image analysis\\ColonyImages\\create_artifical_patterns.ipynb:1"
     ]
    }
   ],
   "source": [
    "fig_test = plot_time_series_cov_centroid(vec_of_sims[1][1:1], para)"
   ]
  },
  {
   "cell_type": "markdown",
   "id": "5fddb098",
   "metadata": {},
   "source": [
    "###  Either plot sim into artifical data folder or not to save computation time"
   ]
  },
  {
   "cell_type": "code",
   "execution_count": 7,
   "id": "9ff6e2f3",
   "metadata": {},
   "outputs": [
    {
     "ename": "UndefVarError",
     "evalue": "UndefVarError: `plot_sim` not defined",
     "output_type": "error",
     "traceback": [
      "UndefVarError: `plot_sim` not defined\n",
      "\n",
      "Stacktrace:\n",
      " [1] top-level scope\n",
      "   @ c:\\Users\\ank10ki\\Dropbox\\phd\\Image analysis\\ColonyImages\\create_artifical_patterns.ipynb:1"
     ]
    }
   ],
   "source": [
    "if plot_sim \n",
    "    for (i,name) in enumerate(simulations)\n",
    "        fig, data_set_name = plot_and_save_time_series_metrics!(vec_of_sims[i], para,df, name_data = name)\n",
    "        save(joinpath(fig_path, data_set_name)*\".png\", fig)\n",
    "    end\n",
    "else\n",
    "    for (i,name) in enumerate(simulations)\n",
    "        data_set_name = save_time_series_metrics!(vec_of_sims[i], para,df, name_data = name)\n",
    "    end\n",
    "end"
   ]
  },
  {
   "cell_type": "code",
   "execution_count": null,
   "id": "177fe388",
   "metadata": {},
   "outputs": [],
   "source": [
    "first(df,2)"
   ]
  },
  {
   "cell_type": "code",
   "execution_count": 19,
   "id": "c162a3c9",
   "metadata": {},
   "outputs": [
    {
     "data": {
      "text/plain": [
       "\"data\\\\metrics\\\\2_col_1_long_growth_random2024_03_11.csv\""
      ]
     },
     "metadata": {},
     "output_type": "display_data"
    }
   ],
   "source": [
    "serialize(joinpath(path_metric,\"$(name_of_sim*Dates.format(now(), \"yyyy_mm_dd\")).jls\"),df)\n",
    "CSV.write(joinpath(path_metric,\"$(name_of_sim*Dates.format(now(), \"yyyy_mm_dd\")).csv\"),df)"
   ]
  },
  {
   "cell_type": "code",
   "execution_count": 65,
   "id": "10ae08e2",
   "metadata": {},
   "outputs": [],
   "source": []
  },
  {
   "cell_type": "code",
   "execution_count": null,
   "id": "7bbc5457",
   "metadata": {},
   "outputs": [],
   "source": []
  }
 ],
 "metadata": {
  "kernelspec": {
   "display_name": "Julia 1.10.2",
   "language": "julia",
   "name": "julia-1.10"
  },
  "language_info": {
   "file_extension": ".jl",
   "mimetype": "application/julia",
   "name": "julia",
   "version": "1.10.2"
  }
 },
 "nbformat": 4,
 "nbformat_minor": 5
}
