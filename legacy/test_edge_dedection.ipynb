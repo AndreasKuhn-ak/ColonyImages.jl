{
 "cells": [
  {
   "cell_type": "code",
   "execution_count": null,
   "id": "03f2f25a",
   "metadata": {},
   "outputs": [],
   "source": [
    "using Pkg\n",
    "Pkg.instantiate()"
   ]
  },
  {
   "cell_type": "code",
   "execution_count": null,
   "id": "b901895e-e75a-4ab0-99d7-2f9a7b3507f5",
   "metadata": {},
   "outputs": [],
   "source": [
    "using Revise, CairoMakie\n",
    "using ColonyImages\n",
    "using DataFrames, CSV, FileIO, Dates, Serialization\n",
    "import ColorSchemes as co "
   ]
  },
  {
   "cell_type": "code",
   "execution_count": null,
   "id": "0e1de2bb",
   "metadata": {},
   "outputs": [
    {
     "data": {
      "text/plain": [
       "false"
      ]
     },
     "metadata": {},
     "output_type": "display_data"
    }
   ],
   "source": [
    "para = parameters(\n",
    "        im_size = [1600,1600],\n",
    "        time_points = [0:2.0:48...],\n",
    "        colony_nr = 32);\n",
    "\n",
    "simulations = [\"Random\", \"Finger_weak\", \"Finger_strong\"]\n",
    "plot_sim = false"
   ]
  },
  {
   "cell_type": "code",
   "execution_count": null,
   "id": "85989396-289e-4db9-aa93-5a5352f3c72e",
   "metadata": {},
   "outputs": [
    {
     "ename": "LoadError",
     "evalue": "UndefVarError: `laplac_kernel` not defined",
     "output_type": "error",
     "traceback": [
      "UndefVarError: `laplac_kernel` not defined",
      "",
      "Stacktrace:",
      " [1] top-level scope",
      "   @ In[48]:2"
     ]
    }
   ],
   "source": [
    "fig2 =heatmap(img_int_vec_1[1][:,:,5], colormap = (:reds,0.5))\n",
    "heatmap!(fig2.axis,conv(img_int_vec_1[1][:,:,5],laplac_kernel) .>0.1, colormap = (:blues, 0.5))\n",
    "display(fig2)"
   ]
  },
  {
   "cell_type": "markdown",
   "id": "bab308f5-a82b-440a-bc03-0318699d0793",
   "metadata": {},
   "source": [
    "### Create empty test data for different methods below"
   ]
  },
  {
   "cell_type": "code",
   "execution_count": 97,
   "id": "7bf2b2a9-c6c9-4ef5-9f30-0630b656474c",
   "metadata": {},
   "outputs": [
    {
     "data": {
      "text/plain": [
       "1-element Vector{CartesianIndex{2}}:\n",
       " CartesianIndex(2, 1)"
      ]
     },
     "execution_count": 97,
     "metadata": {},
     "output_type": "execute_result"
    }
   ],
   "source": [
    "test_array = [1 2 ; 3 1]\n",
    "index = findall(test_array .>2)"
   ]
  },
  {
   "cell_type": "code",
   "execution_count": 110,
   "id": "db0867bb-be46-46fb-a582-3bda827ef686",
   "metadata": {},
   "outputs": [
    {
     "data": {
      "text/plain": [
       "2-element Vector{Float64}:\n",
       " 1.0\n",
       " 0.0"
      ]
     },
     "execution_count": 110,
     "metadata": {},
     "output_type": "execute_result"
    }
   ],
   "source": [
    "normalize(index[1].I.-[1,1])"
   ]
  },
  {
   "cell_type": "code",
   "execution_count": null,
   "id": "1f0c0014-0c7e-403e-ab09-cfcf8920db5f",
   "metadata": {},
   "outputs": [],
   "source": [
    "findall(dir)"
   ]
  },
  {
   "cell_type": "code",
   "execution_count": 89,
   "id": "e490fe51-d947-4d1a-9544-b2ba88bd8667",
   "metadata": {},
   "outputs": [],
   "source": [
    "number_vecs = 20\n",
    "dir= generate_dir_vec(20,0.3)\n",
    "\n",
    "if 1 ∉ (dot.(dir,[[1,0] for i in length(dir)]) .>0.99)\n",
    "    println(1)\n",
    "end"
   ]
  },
  {
   "cell_type": "code",
   "execution_count": null,
   "id": "cd7f6847-bb53-48bb-8d25-407ce5e129e3",
   "metadata": {},
   "outputs": [],
   "source": []
  },
  {
   "cell_type": "code",
   "execution_count": null,
   "id": "6fd2c768-e570-4398-bdb7-e1c52fc8c574",
   "metadata": {},
   "outputs": [],
   "source": []
  },
  {
   "cell_type": "code",
   "execution_count": 2,
   "id": "1f8994f0-3c28-4d26-bd27-6e011ed23a6a",
   "metadata": {},
   "outputs": [
    {
     "ename": "LoadError",
     "evalue": "UndefVarError: `para` not defined",
     "output_type": "error",
     "traceback": [
      "UndefVarError: `para` not defined",
      "",
      "Stacktrace:",
      " [1] top-level scope",
      "   @ .\\In[2]:2"
     ]
    }
   ],
   "source": [
    "img_int_vec = Vector{BitArray{3}}(undef, 0)\n",
    "for i in 1:para.colony_nr\n",
    "    hans =zeros(Bool, im_size...,stacks);\n",
    "    hans = BitArray(hans)\n",
    "    push!(img_int_vec, hans)\n",
    "end\n",
    "build_artifical_colony!(Center,(@view img_int_vec[1][:,:,1]),radius_circle,Points)\n",
    "pixel_to_add = round(Int,sum(img_int_vec[1][:,:,1])).*(col_size_add_diff)"
   ]
  },
  {
   "cell_type": "markdown",
   "id": "347c6d54-3bec-4456-98a3-610d19608e7f",
   "metadata": {},
   "source": [
    "### used different methods to calculate border area: \n",
    "first one is to use inbuild diff/gradient function of julia \n",
    "image needs to be cast on float and a lot of allocation have to be made \n",
    "-> not optimal, and also not entirely sure if it works in all \"edge\" :) cases\n"
   ]
  },
  {
   "cell_type": "code",
   "execution_count": 31,
   "id": "ae85df35-640a-4741-877c-2a5f6678fd96",
   "metadata": {},
   "outputs": [
    {
     "data": {
      "text/plain": [
       "BenchmarkTools.Trial: 154 samples with 1 evaluation.\n",
       " Range \u001b[90m(\u001b[39m\u001b[36m\u001b[1mmin\u001b[22m\u001b[39m … \u001b[35mmax\u001b[39m\u001b[90m):  \u001b[39m\u001b[36m\u001b[1m27.589 ms\u001b[22m\u001b[39m … \u001b[35m43.595 ms\u001b[39m  \u001b[90m┊\u001b[39m GC \u001b[90m(\u001b[39mmin … max\u001b[90m): \u001b[39m 0.00% … 36.19%\n",
       " Time  \u001b[90m(\u001b[39m\u001b[34m\u001b[1mmedian\u001b[22m\u001b[39m\u001b[90m):     \u001b[39m\u001b[34m\u001b[1m34.649 ms              \u001b[22m\u001b[39m\u001b[90m┊\u001b[39m GC \u001b[90m(\u001b[39mmedian\u001b[90m):    \u001b[39m19.52%\n",
       " Time  \u001b[90m(\u001b[39m\u001b[32m\u001b[1mmean\u001b[22m\u001b[39m ± \u001b[32mσ\u001b[39m\u001b[90m):   \u001b[39m\u001b[32m\u001b[1m32.520 ms\u001b[22m\u001b[39m ± \u001b[32m 3.407 ms\u001b[39m  \u001b[90m┊\u001b[39m GC \u001b[90m(\u001b[39mmean ± σ\u001b[90m):  \u001b[39m14.17% ±  9.55%\n",
       "\n",
       "  \u001b[39m▃\u001b[39m \u001b[39m \u001b[39m \u001b[39m \u001b[39m \u001b[39m \u001b[39m \u001b[39m \u001b[39m \u001b[39m \u001b[39m \u001b[39m \u001b[39m \u001b[39m \u001b[39m \u001b[39m \u001b[39m \u001b[39m \u001b[39m \u001b[39m \u001b[39m \u001b[39m \u001b[39m \u001b[39m \u001b[39m \u001b[39m \u001b[39m \u001b[39m \u001b[39m \u001b[39m \u001b[39m \u001b[39m \u001b[39m \u001b[39m \u001b[39m \u001b[39m \u001b[32m \u001b[39m\u001b[39m \u001b[39m \u001b[39m \u001b[39m \u001b[39m \u001b[39m \u001b[39m \u001b[39m \u001b[39m \u001b[39m \u001b[39m \u001b[39m \u001b[39m \u001b[39m \u001b[39m \u001b[34m▁\u001b[39m\u001b[39m█\u001b[39m▂\u001b[39m \u001b[39m \u001b[39m \u001b[39m \u001b[39m \n",
       "  \u001b[39m█\u001b[39m▆\u001b[39m▄\u001b[39m▆\u001b[39m▄\u001b[39m▃\u001b[39m▂\u001b[39m▃\u001b[39m▁\u001b[39m▁\u001b[39m▁\u001b[39m▁\u001b[39m▁\u001b[39m▁\u001b[39m▁\u001b[39m▁\u001b[39m▁\u001b[39m▁\u001b[39m▁\u001b[39m▁\u001b[39m▁\u001b[39m▁\u001b[39m▁\u001b[39m▁\u001b[39m▁\u001b[39m▁\u001b[39m▁\u001b[39m▁\u001b[39m▁\u001b[39m▁\u001b[39m▁\u001b[39m▁\u001b[39m▁\u001b[39m▁\u001b[39m▁\u001b[39m▁\u001b[39m▁\u001b[32m▁\u001b[39m\u001b[39m▁\u001b[39m▁\u001b[39m▁\u001b[39m▂\u001b[39m▁\u001b[39m▁\u001b[39m▁\u001b[39m▁\u001b[39m▁\u001b[39m▁\u001b[39m▁\u001b[39m▁\u001b[39m▄\u001b[39m▄\u001b[39m▅\u001b[34m█\u001b[39m\u001b[39m█\u001b[39m█\u001b[39m▆\u001b[39m▅\u001b[39m▄\u001b[39m \u001b[39m▂\n",
       "  27.6 ms\u001b[90m         Histogram: frequency by time\u001b[39m        35.4 ms \u001b[0m\u001b[1m<\u001b[22m\n",
       "\n",
       " Memory estimate\u001b[90m: \u001b[39m\u001b[33m117.80 MiB\u001b[39m, allocs estimate\u001b[90m: \u001b[39m\u001b[33m30\u001b[39m."
      ]
     },
     "execution_count": 31,
     "metadata": {},
     "output_type": "execute_result"
    }
   ],
   "source": [
    "@benchmark begin \n",
    "    di2 = diff(Float64.(img_int_vec_1[1][:,:,1]), dims =2);\n",
    "    di2 = hcat(di2, zeros(1600))\n",
    "    di1 = diff(Float64.(img_int_vec_1[1][:,:,1]), dims =1);\n",
    "    di1 = vcat(di1, zeros(1600)')\n",
    "end\n"
   ]
  },
  {
   "cell_type": "code",
   "execution_count": 32,
   "id": "53efbf5f-e187-41c2-a796-00618916896d",
   "metadata": {},
   "outputs": [
    {
     "data": {
      "text/plain": [
       "GLMakie.Screen(...)"
      ]
     },
     "execution_count": 32,
     "metadata": {},
     "output_type": "execute_result"
    }
   ],
   "source": [
    "di2 = diff(Float64.(img_int_vec_1[1][:,:,1]), dims =2);\n",
    "di2 = hcat(di2, zeros(1600))\n",
    "di1 = diff(Float64.(img_int_vec_1[1][:,:,1]), dims =1);\n",
    "di1 = vcat(di1, zeros(1600)')\n",
    "display(heatmap(di2.+di1))"
   ]
  },
  {
   "cell_type": "markdown",
   "id": "0e9fa5c8-3e6b-4fa1-8181-e3cd2ca07b7f",
   "metadata": {},
   "source": [
    "second way is to use the package ImageEdgeDetection and its inbuild function imgradient. As runtime is similar to first approach, it appears it does similar things under the hood. "
   ]
  },
  {
   "cell_type": "code",
   "execution_count": 39,
   "id": "2d4f5128-ac74-4887-8cbe-36b71f90931b",
   "metadata": {},
   "outputs": [
    {
     "data": {
      "text/plain": [
       "BenchmarkTools.Trial: 66 samples with 1 evaluation.\n",
       " Range \u001b[90m(\u001b[39m\u001b[36m\u001b[1mmin\u001b[22m\u001b[39m … \u001b[35mmax\u001b[39m\u001b[90m):  \u001b[39m\u001b[36m\u001b[1m67.796 ms\u001b[22m\u001b[39m … \u001b[35m82.287 ms\u001b[39m  \u001b[90m┊\u001b[39m GC \u001b[90m(\u001b[39mmin … max\u001b[90m): \u001b[39m 0.00% … 15.81%\n",
       " Time  \u001b[90m(\u001b[39m\u001b[34m\u001b[1mmedian\u001b[22m\u001b[39m\u001b[90m):     \u001b[39m\u001b[34m\u001b[1m77.245 ms              \u001b[22m\u001b[39m\u001b[90m┊\u001b[39m GC \u001b[90m(\u001b[39mmedian\u001b[90m):    \u001b[39m10.64%\n",
       " Time  \u001b[90m(\u001b[39m\u001b[32m\u001b[1mmean\u001b[22m\u001b[39m ± \u001b[32mσ\u001b[39m\u001b[90m):   \u001b[39m\u001b[32m\u001b[1m76.566 ms\u001b[22m\u001b[39m ± \u001b[32m 3.594 ms\u001b[39m  \u001b[90m┊\u001b[39m GC \u001b[90m(\u001b[39mmean ± σ\u001b[90m):  \u001b[39m10.20% ±  4.32%\n",
       "\n",
       "  \u001b[39m \u001b[39m \u001b[39m \u001b[39m \u001b[39m \u001b[39m \u001b[39m \u001b[39m \u001b[39m \u001b[39m \u001b[39m \u001b[39m \u001b[39m \u001b[39m \u001b[39m \u001b[39m \u001b[39m \u001b[39m \u001b[39m \u001b[39m \u001b[39m \u001b[39m \u001b[39m \u001b[39m \u001b[39m \u001b[39m \u001b[39m \u001b[39m \u001b[39m \u001b[39m \u001b[39m \u001b[39m \u001b[39m \u001b[39m \u001b[39m▂\u001b[39m \u001b[32m \u001b[39m\u001b[39m \u001b[39m \u001b[34m█\u001b[39m\u001b[39m \u001b[39m \u001b[39m \u001b[39m \u001b[39m \u001b[39m \u001b[39m \u001b[39m \u001b[39m \u001b[39m \u001b[39m \u001b[39m \u001b[39m \u001b[39m \u001b[39m \u001b[39m \u001b[39m \u001b[39m \u001b[39m \u001b[39m \u001b[39m \n",
       "  \u001b[39m▅\u001b[39m▁\u001b[39m▆\u001b[39m▃\u001b[39m▃\u001b[39m▃\u001b[39m▃\u001b[39m▁\u001b[39m▁\u001b[39m▁\u001b[39m▁\u001b[39m▁\u001b[39m▁\u001b[39m▁\u001b[39m▁\u001b[39m▁\u001b[39m▁\u001b[39m▁\u001b[39m▁\u001b[39m▁\u001b[39m▁\u001b[39m▁\u001b[39m▁\u001b[39m▁\u001b[39m▁\u001b[39m▁\u001b[39m▁\u001b[39m▁\u001b[39m▁\u001b[39m▃\u001b[39m▁\u001b[39m▁\u001b[39m▁\u001b[39m▁\u001b[39m█\u001b[39m█\u001b[32m█\u001b[39m\u001b[39m█\u001b[39m█\u001b[34m█\u001b[39m\u001b[39m▆\u001b[39m█\u001b[39m▅\u001b[39m▅\u001b[39m▃\u001b[39m▅\u001b[39m▁\u001b[39m▃\u001b[39m▁\u001b[39m▁\u001b[39m▁\u001b[39m▁\u001b[39m▃\u001b[39m█\u001b[39m▁\u001b[39m▁\u001b[39m▁\u001b[39m▁\u001b[39m▆\u001b[39m \u001b[39m▁\n",
       "  67.8 ms\u001b[90m         Histogram: frequency by time\u001b[39m          82 ms \u001b[0m\u001b[1m<\u001b[22m\n",
       "\n",
       " Memory estimate\u001b[90m: \u001b[39m\u001b[33m157.06 MiB\u001b[39m, allocs estimate\u001b[90m: \u001b[39m\u001b[33m469\u001b[39m."
      ]
     },
     "execution_count": 39,
     "metadata": {},
     "output_type": "execute_result"
    }
   ],
   "source": [
    "using ImageEdgeDetection, MosaicViews, ImageFiltering, ImageCore\n",
    "\n",
    "orientation_convention₁ = OrientationConvention(in_radians = false, compass_direction = 'S')\n",
    "\n",
    "@benchmark begin \n",
    "    g1, g2 = imgradients(img_int_vec[1][:,:,1], KernelFactors.sobel)\n",
    "    angles1 = detect_gradient_orientation(g1, g2, orientation_convention₁) / 360\n",
    "    findall(angles1 .!=0)\n",
    "end\n",
    "\n"
   ]
  },
  {
   "cell_type": "markdown",
   "id": "1474a1aa-9d92-4fe2-8070-64db833ca237",
   "metadata": {},
   "source": [
    "Third way, is to use the distance and feature transform function of the package ImageMorphology which makes an inverse [Distance Transformation](https://en.wikipedia.org/wiki/Distance_transform) and to isolate the points with value 1 that are 1 gridpoint away from the colony. This approach is also the fastest by a factor of 2, but still requires a lot of allocations. Not sure if it can be optimised a lot. Current workaround is to only use it, after every x-added gridpoints. "
   ]
  },
  {
   "cell_type": "code",
   "execution_count": 40,
   "id": "e8dced72-a078-4c28-87ac-1b1961332b04",
   "metadata": {},
   "outputs": [
    {
     "data": {
      "text/plain": [
       "BenchmarkTools.Trial: 115 samples with 1 evaluation.\n",
       " Range \u001b[90m(\u001b[39m\u001b[36m\u001b[1mmin\u001b[22m\u001b[39m … \u001b[35mmax\u001b[39m\u001b[90m):  \u001b[39m\u001b[36m\u001b[1m40.709 ms\u001b[22m\u001b[39m … \u001b[35m49.351 ms\u001b[39m  \u001b[90m┊\u001b[39m GC \u001b[90m(\u001b[39mmin … max\u001b[90m): \u001b[39m0.00% … 14.01%\n",
       " Time  \u001b[90m(\u001b[39m\u001b[34m\u001b[1mmedian\u001b[22m\u001b[39m\u001b[90m):     \u001b[39m\u001b[34m\u001b[1m41.550 ms              \u001b[22m\u001b[39m\u001b[90m┊\u001b[39m GC \u001b[90m(\u001b[39mmedian\u001b[90m):    \u001b[39m0.00%\n",
       " Time  \u001b[90m(\u001b[39m\u001b[32m\u001b[1mmean\u001b[22m\u001b[39m ± \u001b[32mσ\u001b[39m\u001b[90m):   \u001b[39m\u001b[32m\u001b[1m43.679 ms\u001b[22m\u001b[39m ± \u001b[32m 3.370 ms\u001b[39m  \u001b[90m┊\u001b[39m GC \u001b[90m(\u001b[39mmean ± σ\u001b[90m):  \u001b[39m5.15% ±  6.65%\n",
       "\n",
       "  \u001b[39m \u001b[39m▂\u001b[39m▇\u001b[39m█\u001b[39m▅\u001b[34m▅\u001b[39m\u001b[39m \u001b[39m▁\u001b[39m \u001b[39m \u001b[39m \u001b[39m \u001b[39m \u001b[39m \u001b[39m \u001b[39m \u001b[39m \u001b[39m \u001b[39m \u001b[39m \u001b[39m \u001b[32m \u001b[39m\u001b[39m \u001b[39m \u001b[39m \u001b[39m \u001b[39m \u001b[39m \u001b[39m \u001b[39m \u001b[39m \u001b[39m \u001b[39m \u001b[39m \u001b[39m \u001b[39m \u001b[39m \u001b[39m \u001b[39m \u001b[39m \u001b[39m \u001b[39m \u001b[39m \u001b[39m \u001b[39m \u001b[39m \u001b[39m \u001b[39m \u001b[39m \u001b[39m \u001b[39m \u001b[39m \u001b[39m▂\u001b[39m \u001b[39m \u001b[39m \u001b[39m \u001b[39m \u001b[39m \u001b[39m \u001b[39m \n",
       "  \u001b[39m▅\u001b[39m█\u001b[39m█\u001b[39m█\u001b[39m█\u001b[34m█\u001b[39m\u001b[39m▆\u001b[39m█\u001b[39m▄\u001b[39m▄\u001b[39m▄\u001b[39m▁\u001b[39m▁\u001b[39m▁\u001b[39m▁\u001b[39m▁\u001b[39m▁\u001b[39m▁\u001b[39m▁\u001b[39m▁\u001b[39m▁\u001b[32m▁\u001b[39m\u001b[39m▁\u001b[39m▁\u001b[39m▁\u001b[39m▁\u001b[39m▁\u001b[39m▁\u001b[39m▁\u001b[39m▁\u001b[39m▁\u001b[39m▁\u001b[39m▁\u001b[39m▁\u001b[39m▁\u001b[39m▁\u001b[39m▁\u001b[39m▃\u001b[39m▁\u001b[39m▁\u001b[39m▁\u001b[39m▁\u001b[39m▁\u001b[39m▁\u001b[39m▁\u001b[39m▁\u001b[39m▁\u001b[39m▁\u001b[39m▁\u001b[39m▁\u001b[39m▇\u001b[39m▇\u001b[39m█\u001b[39m▄\u001b[39m▆\u001b[39m▇\u001b[39m▃\u001b[39m▆\u001b[39m▄\u001b[39m \u001b[39m▃\n",
       "  40.7 ms\u001b[90m         Histogram: frequency by time\u001b[39m        49.2 ms \u001b[0m\u001b[1m<\u001b[22m\n",
       "\n",
       " Memory estimate\u001b[90m: \u001b[39m\u001b[33m59.22 MiB\u001b[39m, allocs estimate\u001b[90m: \u001b[39m\u001b[33m19\u001b[39m."
      ]
     },
     "execution_count": 40,
     "metadata": {},
     "output_type": "execute_result"
    }
   ],
   "source": [
    "using ImageMorphology\n",
    "\n",
    "@benchmark findall((distance_transform(feature_transform(img_int_vec[1][:,:,1])).== 1))"
   ]
  },
  {
   "cell_type": "code",
   "execution_count": 41,
   "id": "18440f3d-1fa7-4603-9d39-7071b8365e4d",
   "metadata": {},
   "outputs": [
    {
     "data": {
      "text/plain": [
       "GLMakie.Screen(...)"
      ]
     },
     "execution_count": 41,
     "metadata": {},
     "output_type": "execute_result"
    }
   ],
   "source": [
    "fig1 = heatmap(distance_transform(feature_transform(img_int_vec[1][:,:,1])).== 1, colormap = (:blues, 0.8))\n",
    "heatmap!(fig1.axis, img_int_vec[1][:,:,1], colormap = (:reds, 0.5))\n",
    "display(fig1)"
   ]
  },
  {
   "cell_type": "markdown",
   "id": "b20d1281-cb88-479b-9b64-04ab6a7b1ede",
   "metadata": {},
   "source": [
    "Fourth way and probably best way, is to use convolution. The image is convoluted with a laplacian [kernel](https://sbme-tutorials.github.io/2018/cv/notes/4_week4.html) which only assumes values above zero on edges that are not occupied. The initial convultion operation using FFTW is quite slow, but as convolution is additative, changes in the image do not require to convoluted the image again, only the convolution of the added point with the kernel has to be added to the conv image. As a a single added point is the identity element of convolution, it gets even simpler and only the kernel has to be added at the positon of the added point to the convoluted image.  "
   ]
  },
  {
   "cell_type": "code",
   "execution_count": 46,
   "id": "da5fbba4-5251-47b0-900a-ce11d9434c92",
   "metadata": {},
   "outputs": [
    {
     "data": {
      "text/plain": [
       "3×3 Matrix{Int64}:\n",
       " 0   1  0\n",
       " 1  -4  1\n",
       " 0   1  0"
      ]
     },
     "execution_count": 46,
     "metadata": {},
     "output_type": "execute_result"
    }
   ],
   "source": [
    "laplac_kernel = [0 1 0; 1 -4 1; 0 1 0]"
   ]
  },
  {
   "cell_type": "code",
   "execution_count": 48,
   "id": "7bf475e6-f292-41ac-99c7-698184e20ca8",
   "metadata": {},
   "outputs": [
    {
     "data": {
      "text/plain": [
       "BenchmarkTools.Trial: 11 samples with 1 evaluation.\n",
       " Range \u001b[90m(\u001b[39m\u001b[36m\u001b[1mmin\u001b[22m\u001b[39m … \u001b[35mmax\u001b[39m\u001b[90m):  \u001b[39m\u001b[36m\u001b[1m473.998 ms\u001b[22m\u001b[39m … \u001b[35m497.046 ms\u001b[39m  \u001b[90m┊\u001b[39m GC \u001b[90m(\u001b[39mmin … max\u001b[90m): \u001b[39m0.00% … 0.00%\n",
       " Time  \u001b[90m(\u001b[39m\u001b[34m\u001b[1mmedian\u001b[22m\u001b[39m\u001b[90m):     \u001b[39m\u001b[34m\u001b[1m477.292 ms               \u001b[22m\u001b[39m\u001b[90m┊\u001b[39m GC \u001b[90m(\u001b[39mmedian\u001b[90m):    \u001b[39m0.00%\n",
       " Time  \u001b[90m(\u001b[39m\u001b[32m\u001b[1mmean\u001b[22m\u001b[39m ± \u001b[32mσ\u001b[39m\u001b[90m):   \u001b[39m\u001b[32m\u001b[1m478.636 ms\u001b[22m\u001b[39m ± \u001b[32m  6.676 ms\u001b[39m  \u001b[90m┊\u001b[39m GC \u001b[90m(\u001b[39mmean ± σ\u001b[90m):  \u001b[39m0.38% ± 0.66%\n",
       "\n",
       "  \u001b[39m█\u001b[39m \u001b[39m \u001b[39m \u001b[34m \u001b[39m\u001b[39m \u001b[39m \u001b[39m \u001b[39m▃\u001b[39m \u001b[39m \u001b[39m \u001b[32m \u001b[39m\u001b[39m \u001b[39m \u001b[39m \u001b[39m \u001b[39m \u001b[39m \u001b[39m \u001b[39m \u001b[39m \u001b[39m \u001b[39m \u001b[39m \u001b[39m \u001b[39m \u001b[39m \u001b[39m \u001b[39m \u001b[39m \u001b[39m \u001b[39m \u001b[39m \u001b[39m \u001b[39m \u001b[39m \u001b[39m \u001b[39m \u001b[39m \u001b[39m \u001b[39m \u001b[39m \u001b[39m \u001b[39m \u001b[39m \u001b[39m \u001b[39m \u001b[39m \u001b[39m \u001b[39m \u001b[39m \u001b[39m \u001b[39m \u001b[39m \u001b[39m \u001b[39m \u001b[39m \u001b[39m \u001b[39m \u001b[39m \u001b[39m \u001b[39m \n",
       "  \u001b[39m█\u001b[39m▇\u001b[39m▁\u001b[39m▁\u001b[34m▇\u001b[39m\u001b[39m▁\u001b[39m▁\u001b[39m▁\u001b[39m█\u001b[39m▁\u001b[39m▁\u001b[39m▇\u001b[32m▁\u001b[39m\u001b[39m▇\u001b[39m▁\u001b[39m▁\u001b[39m▁\u001b[39m▁\u001b[39m▁\u001b[39m▁\u001b[39m▁\u001b[39m▁\u001b[39m▁\u001b[39m▇\u001b[39m▁\u001b[39m▁\u001b[39m▁\u001b[39m▁\u001b[39m▁\u001b[39m▁\u001b[39m▁\u001b[39m▁\u001b[39m▁\u001b[39m▁\u001b[39m▁\u001b[39m▁\u001b[39m▁\u001b[39m▁\u001b[39m▁\u001b[39m▁\u001b[39m▁\u001b[39m▁\u001b[39m▁\u001b[39m▁\u001b[39m▁\u001b[39m▁\u001b[39m▁\u001b[39m▁\u001b[39m▁\u001b[39m▁\u001b[39m▁\u001b[39m▁\u001b[39m▁\u001b[39m▁\u001b[39m▁\u001b[39m▁\u001b[39m▁\u001b[39m▁\u001b[39m▁\u001b[39m▁\u001b[39m▇\u001b[39m \u001b[39m▁\n",
       "  474 ms\u001b[90m           Histogram: frequency by time\u001b[39m          497 ms \u001b[0m\u001b[1m<\u001b[22m\n",
       "\n",
       " Memory estimate\u001b[90m: \u001b[39m\u001b[33m59.34 MiB\u001b[39m, allocs estimate\u001b[90m: \u001b[39m\u001b[33m33\u001b[39m."
      ]
     },
     "execution_count": 48,
     "metadata": {},
     "output_type": "execute_result"
    }
   ],
   "source": [
    "@benchmark begin \n",
    "    test = conv(img_int_vec_1[1][:,:,1],laplac_kernel)\n",
    "    test[800:802,800:802] += laplac_kernel\n",
    "    findall(test.>0.1)\n",
    "end\n"
   ]
  },
  {
   "cell_type": "code",
   "execution_count": 55,
   "id": "0ce61675-1835-45f8-94d2-fb7fa46dff61",
   "metadata": {},
   "outputs": [
    {
     "data": {
      "text/plain": [
       "GLMakie.Screen(...)"
      ]
     },
     "execution_count": 55,
     "metadata": {},
     "output_type": "execute_result"
    }
   ],
   "source": [
    "test = conv(img_int_vec_1[1][:,:,1],laplac_kernel)\n",
    "display(heatmap(test .>0.1))"
   ]
  },
  {
   "cell_type": "markdown",
   "id": "feb89f88-7d61-4ac6-8ce3-7162f66d56e5",
   "metadata": {},
   "source": [
    "All the research above condensed into to seperate functions, 'expand_colony_radom!' simulating a random growth using the distance transformation of the package ImageMorpohlogy which is quite linear in scaling (depending on the reshuffle counter). 'expand_colony_radom_cov!' simulated the same random growth using convolution and a laplace kernel, its runtime is very nonlinear as the inital convolution always takes around 400 ms but everything that follows takes much less time, therefore for many added pixels and a low reshuffle counter the `expand_colony_radom_cov!` function is much faster. "
   ]
  },
  {
   "cell_type": "code",
   "execution_count": 54,
   "id": "ad01ac6e-4830-4c2d-a2d3-ec45288cc503",
   "metadata": {},
   "outputs": [
    {
     "data": {
      "text/plain": [
       "BenchmarkTools.Trial: 11 samples with 1 evaluation.\n",
       " Range \u001b[90m(\u001b[39m\u001b[36m\u001b[1mmin\u001b[22m\u001b[39m … \u001b[35mmax\u001b[39m\u001b[90m):  \u001b[39m\u001b[36m\u001b[1m483.926 ms\u001b[22m\u001b[39m … \u001b[35m514.292 ms\u001b[39m  \u001b[90m┊\u001b[39m GC \u001b[90m(\u001b[39mmin … max\u001b[90m): \u001b[39m0.00% … 2.39%\n",
       " Time  \u001b[90m(\u001b[39m\u001b[34m\u001b[1mmedian\u001b[22m\u001b[39m\u001b[90m):     \u001b[39m\u001b[34m\u001b[1m489.690 ms               \u001b[22m\u001b[39m\u001b[90m┊\u001b[39m GC \u001b[90m(\u001b[39mmedian\u001b[90m):    \u001b[39m0.00%\n",
       " Time  \u001b[90m(\u001b[39m\u001b[32m\u001b[1mmean\u001b[22m\u001b[39m ± \u001b[32mσ\u001b[39m\u001b[90m):   \u001b[39m\u001b[32m\u001b[1m492.199 ms\u001b[22m\u001b[39m ± \u001b[32m  8.984 ms\u001b[39m  \u001b[90m┊\u001b[39m GC \u001b[90m(\u001b[39mmean ± σ\u001b[90m):  \u001b[39m0.64% ± 0.90%\n",
       "\n",
       "  \u001b[39m█\u001b[39m█\u001b[39m█\u001b[39m \u001b[39m█\u001b[39m \u001b[39m \u001b[39m█\u001b[34m \u001b[39m\u001b[39m \u001b[39m \u001b[39m█\u001b[39m \u001b[39m \u001b[39m \u001b[39m█\u001b[39m \u001b[32m \u001b[39m\u001b[39m \u001b[39m \u001b[39m█\u001b[39m \u001b[39m \u001b[39m \u001b[39m█\u001b[39m \u001b[39m \u001b[39m \u001b[39m \u001b[39m \u001b[39m \u001b[39m \u001b[39m█\u001b[39m \u001b[39m \u001b[39m \u001b[39m \u001b[39m \u001b[39m \u001b[39m \u001b[39m \u001b[39m \u001b[39m \u001b[39m \u001b[39m \u001b[39m \u001b[39m \u001b[39m \u001b[39m \u001b[39m \u001b[39m \u001b[39m \u001b[39m \u001b[39m \u001b[39m \u001b[39m \u001b[39m \u001b[39m \u001b[39m \u001b[39m \u001b[39m█\u001b[39m \u001b[39m \n",
       "  \u001b[39m█\u001b[39m█\u001b[39m█\u001b[39m▁\u001b[39m█\u001b[39m▁\u001b[39m▁\u001b[39m█\u001b[34m▁\u001b[39m\u001b[39m▁\u001b[39m▁\u001b[39m█\u001b[39m▁\u001b[39m▁\u001b[39m▁\u001b[39m█\u001b[39m▁\u001b[32m▁\u001b[39m\u001b[39m▁\u001b[39m▁\u001b[39m█\u001b[39m▁\u001b[39m▁\u001b[39m▁\u001b[39m█\u001b[39m▁\u001b[39m▁\u001b[39m▁\u001b[39m▁\u001b[39m▁\u001b[39m▁\u001b[39m▁\u001b[39m█\u001b[39m▁\u001b[39m▁\u001b[39m▁\u001b[39m▁\u001b[39m▁\u001b[39m▁\u001b[39m▁\u001b[39m▁\u001b[39m▁\u001b[39m▁\u001b[39m▁\u001b[39m▁\u001b[39m▁\u001b[39m▁\u001b[39m▁\u001b[39m▁\u001b[39m▁\u001b[39m▁\u001b[39m▁\u001b[39m▁\u001b[39m▁\u001b[39m▁\u001b[39m▁\u001b[39m▁\u001b[39m▁\u001b[39m▁\u001b[39m▁\u001b[39m█\u001b[39m \u001b[39m▁\n",
       "  484 ms\u001b[90m           Histogram: frequency by time\u001b[39m          514 ms \u001b[0m\u001b[1m<\u001b[22m\n",
       "\n",
       " Memory estimate\u001b[90m: \u001b[39m\u001b[33m64.43 MiB\u001b[39m, allocs estimate\u001b[90m: \u001b[39m\u001b[33m8064\u001b[39m."
      ]
     },
     "execution_count": 54,
     "metadata": {},
     "output_type": "execute_result"
    }
   ],
   "source": [
    "@benchmark expand_colony_radom_cov!((@view img_int_vec_1[3][:,:,1]),pixel_to_add[1])"
   ]
  },
  {
   "cell_type": "code",
   "execution_count": 50,
   "id": "a6d16ced-0f0e-4bad-a137-3c8091a6d26d",
   "metadata": {},
   "outputs": [
    {
     "data": {
      "text/plain": [
       "BenchmarkTools.Trial: 4 samples with 1 evaluation.\n",
       " Range \u001b[90m(\u001b[39m\u001b[36m\u001b[1mmin\u001b[22m\u001b[39m … \u001b[35mmax\u001b[39m\u001b[90m):  \u001b[39m\u001b[36m\u001b[1m1.227 s\u001b[22m\u001b[39m … \u001b[35m  1.403 s\u001b[39m  \u001b[90m┊\u001b[39m GC \u001b[90m(\u001b[39mmin … max\u001b[90m): \u001b[39m4.50% … 4.32%\n",
       " Time  \u001b[90m(\u001b[39m\u001b[34m\u001b[1mmedian\u001b[22m\u001b[39m\u001b[90m):     \u001b[39m\u001b[34m\u001b[1m1.303 s              \u001b[22m\u001b[39m\u001b[90m┊\u001b[39m GC \u001b[90m(\u001b[39mmedian\u001b[90m):    \u001b[39m4.69%\n",
       " Time  \u001b[90m(\u001b[39m\u001b[32m\u001b[1mmean\u001b[22m\u001b[39m ± \u001b[32mσ\u001b[39m\u001b[90m):   \u001b[39m\u001b[32m\u001b[1m1.309 s\u001b[22m\u001b[39m ± \u001b[32m73.942 ms\u001b[39m  \u001b[90m┊\u001b[39m GC \u001b[90m(\u001b[39mmean ± σ\u001b[90m):  \u001b[39m4.59% ± 0.24%\n",
       "\n",
       "  \u001b[39m█\u001b[39m \u001b[39m \u001b[39m \u001b[39m \u001b[39m \u001b[39m \u001b[39m \u001b[39m \u001b[39m \u001b[39m \u001b[39m \u001b[39m \u001b[39m \u001b[39m \u001b[39m \u001b[39m \u001b[39m \u001b[34m█\u001b[39m\u001b[39m \u001b[39m \u001b[39m \u001b[39m \u001b[39m \u001b[39m \u001b[39m \u001b[39m \u001b[32m \u001b[39m\u001b[39m \u001b[39m \u001b[39m█\u001b[39m \u001b[39m \u001b[39m \u001b[39m \u001b[39m \u001b[39m \u001b[39m \u001b[39m \u001b[39m \u001b[39m \u001b[39m \u001b[39m \u001b[39m \u001b[39m \u001b[39m \u001b[39m \u001b[39m \u001b[39m \u001b[39m \u001b[39m \u001b[39m \u001b[39m \u001b[39m \u001b[39m \u001b[39m \u001b[39m█\u001b[39m \u001b[39m \n",
       "  \u001b[39m█\u001b[39m▁\u001b[39m▁\u001b[39m▁\u001b[39m▁\u001b[39m▁\u001b[39m▁\u001b[39m▁\u001b[39m▁\u001b[39m▁\u001b[39m▁\u001b[39m▁\u001b[39m▁\u001b[39m▁\u001b[39m▁\u001b[39m▁\u001b[39m▁\u001b[39m▁\u001b[34m█\u001b[39m\u001b[39m▁\u001b[39m▁\u001b[39m▁\u001b[39m▁\u001b[39m▁\u001b[39m▁\u001b[39m▁\u001b[39m▁\u001b[32m▁\u001b[39m\u001b[39m▁\u001b[39m▁\u001b[39m█\u001b[39m▁\u001b[39m▁\u001b[39m▁\u001b[39m▁\u001b[39m▁\u001b[39m▁\u001b[39m▁\u001b[39m▁\u001b[39m▁\u001b[39m▁\u001b[39m▁\u001b[39m▁\u001b[39m▁\u001b[39m▁\u001b[39m▁\u001b[39m▁\u001b[39m▁\u001b[39m▁\u001b[39m▁\u001b[39m▁\u001b[39m▁\u001b[39m▁\u001b[39m▁\u001b[39m▁\u001b[39m▁\u001b[39m█\u001b[39m \u001b[39m▁\n",
       "  1.23 s\u001b[90m         Histogram: frequency by time\u001b[39m         1.4 s \u001b[0m\u001b[1m<\u001b[22m\n",
       "\n",
       " Memory estimate\u001b[90m: \u001b[39m\u001b[33m1.38 GiB\u001b[39m, allocs estimate\u001b[90m: \u001b[39m\u001b[33m363\u001b[39m."
      ]
     },
     "execution_count": 50,
     "metadata": {},
     "output_type": "execute_result"
    }
   ],
   "source": [
    "@benchmark expand_colony_radom!((@view img_int_vec_1[4][:,:,1]),pixel_to_add[1])"
   ]
  },
  {
   "cell_type": "code",
   "execution_count": null,
   "id": "a5291fd8-2af0-497b-899e-8a593dfc7137",
   "metadata": {},
   "outputs": [],
   "source": []
  },
  {
   "cell_type": "code",
   "execution_count": 52,
   "id": "280beb03-27f8-40ac-b301-6ce7417702ba",
   "metadata": {},
   "outputs": [
    {
     "data": {
      "text/plain": [
       "BitMatrix\u001b[90m (alias for \u001b[39m\u001b[90mBitArray{2}\u001b[39m\u001b[90m)\u001b[39m"
      ]
     },
     "execution_count": 52,
     "metadata": {},
     "output_type": "execute_result"
    }
   ],
   "source": [
    "typeof(img_int_vec_1[3][:,:,1])"
   ]
  },
  {
   "cell_type": "code",
   "execution_count": 56,
   "id": "0cdec5b9-2d0c-4cc5-ae6a-9c5caf8efb72",
   "metadata": {},
   "outputs": [
    {
     "data": {
      "text/plain": [
       "2-element Vector{Int64}:\n",
       " -60\n",
       " -55"
      ]
     },
     "execution_count": 56,
     "metadata": {},
     "output_type": "execute_result"
    }
   ],
   "source": [
    "point = [740,745] .-Center"
   ]
  },
  {
   "cell_type": "code",
   "execution_count": 64,
   "id": "3d5573b6-a0a4-4cf2-9626-078bd338dec6",
   "metadata": {},
   "outputs": [
    {
     "data": {
      "text/plain": [
       "2-element Vector{Int64}:\n",
       " -1\n",
       "  0"
      ]
     },
     "execution_count": 64,
     "metadata": {},
     "output_type": "execute_result"
    }
   ],
   "source": [
    "dir = [-1,0]"
   ]
  },
  {
   "cell_type": "code",
   "execution_count": 63,
   "id": "37a27f38-1871-4dab-9005-3733eda167cd",
   "metadata": {},
   "outputs": [
    {
     "data": {
      "text/plain": [
       "115"
      ]
     },
     "execution_count": 63,
     "metadata": {},
     "output_type": "execute_result"
    }
   ],
   "source": [
    "dot(dir,point)"
   ]
  },
  {
   "cell_type": "code",
   "execution_count": 66,
   "id": "a2befd43-5558-4e63-b445-657a7771af9f",
   "metadata": {},
   "outputs": [
    {
     "data": {
      "text/plain": [
       "(800, 800)"
      ]
     },
     "execution_count": 66,
     "metadata": {},
     "output_type": "execute_result"
    }
   ],
   "source": [
    "center = size(img_int_vec_1[3][:,:,1]).÷2"
   ]
  },
  {
   "cell_type": "code",
   "execution_count": null,
   "id": "6955ca17-d151-48e0-92da-f4706f292e50",
   "metadata": {},
   "outputs": [],
   "source": []
  }
 ],
 "metadata": {
  "kernelspec": {
   "display_name": "Julia 1.9.4",
   "language": "julia",
   "name": "julia-1.9"
  },
  "language_info": {
   "file_extension": ".jl",
   "mimetype": "application/julia",
   "name": "julia",
   "version": "1.9.4"
  }
 },
 "nbformat": 4,
 "nbformat_minor": 5
}
